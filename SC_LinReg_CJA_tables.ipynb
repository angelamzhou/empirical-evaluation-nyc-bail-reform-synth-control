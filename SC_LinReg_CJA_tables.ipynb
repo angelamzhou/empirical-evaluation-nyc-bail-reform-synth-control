{
 "cells": [
  {
   "cell_type": "code",
   "execution_count": null,
   "metadata": {},
   "outputs": [],
   "source": [
    "%load_ext autoreload\n",
    "%autoreload 2\n",
    "%matplotlib inline\n",
    "import numpy as np \n",
    "import matplotlib.pyplot as plt\n",
    "from synth_helpers import * \n",
    "import datetime\n",
    "import sys, os\n",
    "sys.path.append(\"../..\")\n",
    "sys.path.append(\"..\")\n",
    "sys.path.append(os.getcwd())\n",
    "from statsmodels.distributions.empirical_distribution import ECDF\n",
    "import copy\n",
    "import pickle"
   ]
  },
  {
   "cell_type": "markdown",
   "metadata": {},
   "source": [
    "## Import data "
   ]
  },
  {
   "cell_type": "code",
   "execution_count": null,
   "metadata": {},
   "outputs": [],
   "source": [
    "# Linear regression with ridge\n",
    "# method='linreg'\n",
    "# daily = 'weekly'\n",
    "# ridge = True\n",
    "\n",
    "# Linear regression without ridge\n",
    "# method='linreg'\n",
    "# daily = 'weekly'\n",
    "# ridge = False\n",
    "\n",
    "# RSC\n",
    "# daily = 'weekly'\n",
    "# method='RSC'\n",
    "# ridge = False\n",
    "ridge_name ='ridge' if ridge else 'noridge'"
   ]
  },
  {
   "cell_type": "code",
   "execution_count": 47,
   "metadata": {},
   "outputs": [
    {
     "name": "stdout",
     "output_type": "stream",
     "text": [
      "weekly-RSC-morecities-noridge\n"
     ]
    }
   ],
   "source": [
    "exp_name = daily+'-'+method+'-morecities-'+ridge_name#-neg-allcats'\n",
    "print exp_name\n",
    "res = pickle.load(open('results/'+exp_name+'-sc-out.p', 'rb'))\n",
    "locals().update(res)\n",
    "# print_cats = [ x.replace('_', ' ') for x in cats ]\n"
   ]
  },
  {
   "cell_type": "code",
   "execution_count": 48,
   "metadata": {},
   "outputs": [
    {
     "data": {
      "text/plain": [
       "array([25., 25., 25., 25., 19.])"
      ]
     },
     "execution_count": 48,
     "metadata": {},
     "output_type": "execute_result"
    }
   ],
   "source": [
    "n_placebos_"
   ]
  },
  {
   "cell_type": "code",
   "execution_count": 25,
   "metadata": {},
   "outputs": [
    {
     "data": {
      "text/plain": [
       "array([0.73762508, 0.68842555, 0.72879319, 0.5618315 , 0.82424032])"
      ]
     },
     "execution_count": 25,
     "metadata": {},
     "output_type": "execute_result"
    }
   ],
   "source": [
    "Rsquareds\n"
   ]
  },
  {
   "cell_type": "code",
   "execution_count": 49,
   "metadata": {},
   "outputs": [
    {
     "name": "stdout",
     "output_type": "stream",
     "text": [
      "&ATE (/1000) & p (ATE) & p (RMSE) & Pre-tx $R^2$ & Pre-tx RMSE & Avg. plac. RMSE & Num. plac.\\\\ \\hline\n",
      "Violent Assault&$0.0163$ & $0.36$ & $0.21$ & $0.76$ & $8.23 \\times 10^{-6}$ & $2.07 \\times 10^{-5}$ & $25$\\\\\n",
      "Property Theft&$0.0197$ & $0.44$ & $0.79$ & $0.72$ & $1.78 \\times 10^{-5}$ & $2.71 \\times 10^{-5}$ & $25$\\\\\n",
      "Property Burglary&$0.0319$ & $0.36$ & $0.38$ & $0.91$ & $3.49 \\times 10^{-6}$ & $1.15 \\times 10^{-5}$ & $25$\\\\\n",
      "Violent Robbery&$0.0287$ & $0.2$ & $0.21$ & $0.72$ & $8.78 \\times 10^{-6}$ & $1.65 \\times 10^{-5}$ & $25$\\\\\n",
      "Drug&$-0.0006$ & $0.68$ & $0.89$ & $0.72$ & $8.36 \\times 10^{-6}$ & $2.01 \\times 10^{-5}$ & $19$\\\\\n"
     ]
    }
   ],
   "source": [
    "def latex_float(float_str):\n",
    "    if \"e\" in float_str:\n",
    "        base, exponent = float_str.split(\"e\")\n",
    "        return r\"{0} \\times 10^{{{1}}}\".format(base, int(exponent))\n",
    "    else:\n",
    "        return float_str\n",
    "    \n",
    "cols = ['ATE (/1000)', 'p (ATE)', 'p (RMSE)', r'Pre-tx $R^2$', 'Pre-tx RMSE','Avg. plac. RMSE', 'Num. plac.' ]\n",
    "# print_cats = [x.replace('_',' ') for x in cats]\n",
    "print_cats = cats_print\n",
    "print ''+\"&\" + \" & \".join([  cols[j] for j in range(len(cols))])  + '\\\\\\\\ \\hline'\n",
    "for j in range(len(cats)): \n",
    "    includes=[str(np.round(placebo_ate[j]*1000,4)), # rescale by city population\n",
    "#         latex_float(np.format_float_scientific(placebo_ate[j],2) ),\n",
    "              str(np.round(1-placebo_ate_p[j],2)), \n",
    "              str(np.round(1-placebo_mse_ratio_p[j],2)),\n",
    "              str(np.round(Rsquareds[j],2)),\n",
    "              latex_float(np.format_float_scientific(SC_mses[j],2)),\n",
    "              latex_float(np.format_float_scientific(np.mean(placebo_mses[j]),2)), \n",
    "             str(n_placebos_.astype(int)[j])]    \n",
    "    print print_cats[j]+ \"&\" + \" & \".join(['$'+x+'$' for x in includes])  + '\\\\\\\\'\n",
    "\n",
    "\n",
    "\n",
    "# print ''+\"&\" + \" & \".join([ '$'+ cats[j]+'$' for j in range(len(cats))])  + '\\\\\\\\'\n",
    "# print 'Pseudo-p-value (ATE)'+ \"&\" + \" & \".join([ '$'+ str(np.round(placebo_ate_p[j],2))+'$' for j in range(len(cats))])  + '\\\\\\\\'\n",
    "# print 'Pre-treatment RMSE'+ \"&\" + \" & \".join([ '$'+ str(np.format_float_scientific(SC_mses[j],2))+'$'for j in range(len(cats))] )  + '\\\\\\\\'\n",
    "# print 'Avg. Placebo RMSE'+ \"&\" + \" & \".join([ '$'+ str(np.format_float_scientific(np.mean(x),2))+'$' for x in placebo_mses_])  + '\\\\\\\\'\n",
    "\n",
    "\n"
   ]
  },
  {
   "cell_type": "markdown",
   "metadata": {},
   "source": [
    "## Multiple testing"
   ]
  },
  {
   "cell_type": "code",
   "execution_count": null,
   "metadata": {},
   "outputs": [],
   "source": [
    "placebo_ate_p"
   ]
  },
  {
   "cell_type": "code",
   "execution_count": 34,
   "metadata": {},
   "outputs": [
    {
     "name": "stdout",
     "output_type": "stream",
     "text": [
      "[0.22727273 0.29166667 0.35714286 0.40909091 0.78571429]\n",
      "[False False False False False]\n",
      "[0.72449391 0.74826087 0.74826087 0.74826087 0.78571429]\n",
      "&Violent Robbery & Property Theft & Property Burglary & Violent Assault & Drug\\\\ \\hline\n",
      "Adjusted p (ATE)&$0.72$ & $0.75$ & $0.75$ & $0.75$ & $0.79$\\\\ \n",
      "Conclusion&Fail to Reject & Fail to Reject & Fail to Reject & Fail to Reject & Fail to Reject\\\\ \n",
      "Adjusted p (RMSE)&$0.5$ & $0.5$ & $0.54$ & $0.56$ & $0.56$\\\\ \n",
      "Conclusion&Fail to Reject & Fail to Reject & Fail to Reject & Fail to Reject & Fail to Reject\n",
      "[0.13043478 0.15384615 0.23076923 0.33333333 0.52380952]\n",
      "[False False False False False]\n",
      "[0.50282326 0.50282326 0.54483386 0.55555556 0.55555556]\n"
     ]
    }
   ],
   "source": [
    "import statsmodels\n",
    "from statsmodels.stats.multitest import multipletests\n",
    "one_sided_p =  1 - placebo_ate_p \n",
    "sort_order = np.argsort(one_sided_p)\n",
    "sorted_p = one_sided_p[sort_order]\n",
    "print sorted_p\n",
    "res = multipletests(sorted_p, alpha=0.1,method='holm-sidak')\n",
    "print res[0]\n",
    "adjusted_p = res[1]\n",
    "print adjusted_p\n",
    "print  \"&\" + \" & \".join([ print_cats[sort_order[ind]] for ind in range(len(print_cats))] )  + '\\\\\\\\ \\hline'\n",
    "print \"Adjusted p (ATE)\" + \"&\" + \" & \".join([ '$'+ str(np.round(adjusted_p[ind],2))+'$' for ind in range(len(cats))] )  + '\\\\\\\\ '\n",
    "print \"Conclusion\" + \"&\" + \" & \".join([ 'Fail to Reject' if not res[0][ind] else 'Reject' for ind in range(len(cats))] ) + '\\\\\\\\ '\n",
    "# mse test statistic\n",
    "one_sided_p =  1 - placebo_mse_ratio_p \n",
    "sort_order = np.argsort(one_sided_p)\n",
    "sorted_p = one_sided_p[sort_order]\n",
    "\n",
    "res = multipletests(sorted_p, alpha=0.1,method='holm-sidak')\n",
    "\n",
    "adjusted_p = res[1]\n",
    "print \"Adjusted p (RMSE)\" + \"&\" + \" & \".join([ '$'+ str(np.round(adjusted_p[ind],2))+'$' for ind in range(len(cats))] )  + '\\\\\\\\ '\n",
    "print \"Conclusion\" + \"&\" + \" & \".join([ 'Fail to Reject' if not res[0][ind] else 'Reject' for ind in range(len(cats))] )\n",
    "print sorted_p\n",
    "print res[0]\n",
    "print adjusted_p\n",
    "\n"
   ]
  },
  {
   "cell_type": "markdown",
   "metadata": {},
   "source": [
    "## Table for in-time placebos"
   ]
  },
  {
   "cell_type": "code",
   "execution_count": 50,
   "metadata": {
    "scrolled": false
   },
   "outputs": [
    {
     "name": "stdout",
     "output_type": "stream",
     "text": [
      "Category & Start date & ATE (/1000) &  p (ATE) & p (RMSE) & Avg. Placebo RMSE\\\\ \\hline\n",
      "Violent Assault&01/01/19&$-0.0026$ & $0.64$ & $0.92$ & $1.98 \\times 10^{-5}$\\\\\n",
      "&03/01/19&$0.0049$ & $0.56$ & $0.71$ & $1.99 \\times 10^{-5}$\\\\\n",
      "&06/01/19&$0.0087$ & $0.48$ & $0.42$ & $2.00 \\times 10^{-5}$\\\\\n",
      "Property Theft&01/01/19&$-0.0436$ & $0.76$ & $0.62$ & $2.30 \\times 10^{-5}$\\\\\n",
      "&03/01/19&$-0.0337$ & $0.76$ & $0.62$ & $2.46 \\times 10^{-5}$\\\\\n",
      "&06/01/19&$0.0016$ & $0.6$ & $1.0$ & $2.50 \\times 10^{-5}$\\\\\n",
      "Property Burglary&01/01/19&$-0.0016$ & $0.36$ & $0.62$ & $6.38 \\times 10^{-6}$\\\\\n",
      "&03/01/19&$-0.0005$ & $0.44$ & $0.46$ & $6.50 \\times 10^{-6}$\\\\\n",
      "&06/01/19&$0.0025$ & $0.4$ & $0.46$ & $6.69 \\times 10^{-6}$\\\\\n",
      "Violent Robbery&01/01/19&$0.0027$ & $0.2$ & $0.29$ & $6.67 \\times 10^{-6}$\\\\\n",
      "&03/01/19&$0.0037$ & $0.2$ & $0.29$ & $6.84 \\times 10^{-6}$\\\\\n",
      "&06/01/19&$0.0052$ & $0.16$ & $0.25$ & $6.8 \\times 10^{-6}$\\\\\n",
      "Drug&01/01/19&$0.0082$ & $0.37$ & $0.39$ & $1.35 \\times 10^{-5}$\\\\\n",
      "&03/01/19&$0.0032$ & $0.42$ & $0.67$ & $1.35 \\times 10^{-5}$\\\\\n",
      "&06/01/19&$0.0004$ & $0.32$ & $0.67$ & $1.32 \\times 10^{-5}$\\\\\n"
     ]
    }
   ],
   "source": [
    "cols = ['Category', 'Start date',r'ATE (/1000)', ' p (ATE)', 'p (RMSE)', 'Avg. Placebo RMSE']\n",
    "# print_cats = [x.replace('_',' ') for x in cats]\n",
    "print  \" & \".join([  cols[j] for j in range(len(cols))])  + '\\\\\\\\ \\hline'\n",
    "\n",
    "\n",
    "for j in range(len(cats)): \n",
    "    for k in range(len(alt_end_times)):\n",
    "    \n",
    "        includes=[str(np.round(placebo_intime_ate_nyc[j][k]*1000,4)),\n",
    "#             latex_float(np.format_float_scientific(placebo_intime_ate_nyc[j][k],2)),\n",
    "                  str(np.round(1-placebo_intime_ate_p[j][k],2)), \n",
    "                  str(np.round(1-placebo_intime_mse_ratio_p[j][k],2)),\n",
    "                  latex_float(np.format_float_scientific(np.mean(placebo_intime_mses_[j][k]),2)) ]    \n",
    "        cat_ = print_cats[j] if k ==0 else ''\n",
    "        print cat_ + \"&\" + datetime.datetime.strptime(alt_end_times[k], '%Y-%m-%d').strftime('%m/%d/%y')+ \"&\"+ \" & \".join(['$'+x+'$' for x in includes])  + '\\\\\\\\'\n",
    "\n",
    "\n"
   ]
  },
  {
   "cell_type": "markdown",
   "metadata": {},
   "source": [
    "## Table for early roll-in in-time placebos"
   ]
  },
  {
   "cell_type": "code",
   "execution_count": 37,
   "metadata": {},
   "outputs": [
    {
     "data": {
      "text/plain": [
       "array([[0.        , 0.        , 0.        ],\n",
       "       [0.04347826, 0.        , 0.04347826],\n",
       "       [0.        , 0.13636364, 0.42857143],\n",
       "       [0.79166667, 0.5       , 0.33333333],\n",
       "       [0.        , 0.1875    , 0.3125    ]])"
      ]
     },
     "execution_count": 37,
     "metadata": {},
     "output_type": "execute_result"
    }
   ],
   "source": [
    "placebo_rollin_mse_ratio_p"
   ]
  },
  {
   "cell_type": "code",
   "execution_count": 51,
   "metadata": {},
   "outputs": [
    {
     "name": "stdout",
     "output_type": "stream",
     "text": [
      "Category & Early Roll-in Start date & ATE (/ 1000) & p (ATE) & p (RMSE) & Avg. Placebo RMSE\\\\ \\hline\n",
      "Violent Assault&09/01/19&$0.0111$ & $0.44$ & $0.25$ & $2.02 \\times 10^{-5}$\\\\\n",
      "&10/01/19&$0.0114$ & $0.36$ & $0.25$ & $2.03 \\times 10^{-5}$\\\\\n",
      "&11/01/19&$0.0139$ & $0.32$ & $0.25$ & $2.05 \\times 10^{-5}$\\\\\n",
      "Property Theft&09/01/19&$0.0168$ & $0.4$ & $0.96$ & $2.54 \\times 10^{-5}$\\\\\n",
      "&10/01/19&$0.0141$ & $0.48$ & $0.96$ & $2.56 \\times 10^{-5}$\\\\\n",
      "&11/01/19&$0.0161$ & $0.52$ & $0.92$ & $2.63 \\times 10^{-5}$\\\\\n",
      "Property Burglary&09/01/19&$0.0045$ & $0.4$ & $0.42$ & $6.9 \\times 10^{-6}$\\\\\n",
      "&10/01/19&$0.0057$ & $0.36$ & $0.42$ & $6.89 \\times 10^{-6}$\\\\\n",
      "&11/01/19&$0.0062$ & $0.32$ & $0.42$ & $6.95 \\times 10^{-6}$\\\\\n",
      "Violent Robbery&09/01/19&$0.0058$ & $0.2$ & $0.25$ & $6.89 \\times 10^{-6}$\\\\\n",
      "&10/01/19&$0.0052$ & $0.24$ & $0.25$ & $6.90 \\times 10^{-6}$\\\\\n",
      "&11/01/19&$0.0051$ & $0.2$ & $0.33$ & $6.92 \\times 10^{-6}$\\\\\n",
      "Drug&09/01/19&$-0.0004$ & $0.26$ & $0.72$ & $1.29 \\times 10^{-5}$\\\\\n",
      "&10/01/19&$-0.0004$ & $0.26$ & $0.56$ & $1.28 \\times 10^{-5}$\\\\\n",
      "&11/01/19&$-0.0012$ & $0.32$ & $0.61$ & $1.29 \\times 10^{-5}$\\\\\n"
     ]
    }
   ],
   "source": [
    "cols = ['Category', 'Early Roll-in Start date',r'ATE (/ 1000)', 'p (ATE)','p (RMSE)', 'Avg. Placebo RMSE']\n",
    "# print_cats = [x.replace('_',' ') for x in cats]\n",
    "print  \" & \".join([  cols[j] for j in range(len(cols))])  + '\\\\\\\\ \\hline'\n",
    "\n",
    "\n",
    "for j in range(len(cats)): \n",
    "    for k in range(len(alt_end_times)):\n",
    "    \n",
    "        includes=[str(np.round(placebo_rollin_ate_nyc[j][k]*1000,4)),\n",
    "#             latex_float(np.format_float_scientific(placebo_intime_ate_nyc[j][k],2)),\n",
    "                  str(np.round(1-placebo_rollin_ate_p[j][k],2)), \n",
    "                  str(np.round(1-placebo_rollin_mse_ratio_p[j][k],2)), \n",
    "                  latex_float(np.format_float_scientific(np.mean(placebo_rollin_mses_[j][k]),2)) ]    \n",
    "        cat_ = print_cats[j] if k ==0 else ''\n",
    "        print cat_ + \"&\" + datetime.datetime.strptime(alt_end_times_rollin[k], '%Y-%m-%d').strftime('%m/%d/%y')+ \"&\"+ \" & \".join(['$'+x+'$' for x in includes])  + '\\\\\\\\'\n",
    "\n",
    "\n",
    "\n"
   ]
  },
  {
   "cell_type": "markdown",
   "metadata": {},
   "source": [
    "## Table with weight information "
   ]
  },
  {
   "cell_type": "code",
   "execution_count": 12,
   "metadata": {
    "scrolled": true
   },
   "outputs": [
    {
     "name": "stdout",
     "output_type": "stream",
     "text": [
      "City&Violent Assault & Property Theft & Property Burglary & Violent Robbery & Drug\\\\ \\hline\n",
      "Austin&$0.04$ & $0.04$ & $0.09$ & $0.06$ & $0.08$\\\\\n",
      "Baltimore&$0.01$ & $0.05$ & $0.0$ & $0.01$ & $--$\\\\\n",
      "Boston&$0.06$ & $0.05$ & $0.09$ & $0.05$ & $-0.0$\\\\\n",
      "Buffalo&$0.02$ & $0.01$ & $-0.08$ & $0.02$ & $--$\\\\\n",
      "Chicago&$0.01$ & $0.05$ & $0.08$ & $0.03$ & $0.04$\\\\\n",
      "Cincinnati&$0.01$ & $0.07$ & $-0.02$ & $0.01$ & $--$\\\\\n",
      "Dallas&$0.06$ & $0.08$ & $0.02$ & $0.05$ & $0.0$\\\\\n",
      "Denver&$0.06$ & $-0.01$ & $0.09$ & $0.05$ & $-0.05$\\\\\n",
      "Detroit&$-0.01$ & $0.04$ & $-0.01$ & $0.04$ & $-0.1$\\\\\n",
      "Houston&$0.02$ & $0.06$ & $0.02$ & $0.05$ & $-0.11$\\\\\n",
      "Kansas City&$0.01$ & $0.01$ & $0.01$ & $0.01$ & $-0.0$\\\\\n",
      "Little Rock&$0.03$ & $-0.01$ & $-0.04$ & $0.05$ & $--$\\\\\n",
      "Los Angeles&$0.06$ & $0.11$ & $0.16$ & $0.06$ & $0.83$\\\\\n",
      "Louisville&$0.04$ & $-0.01$ & $0.04$ & $0.05$ & $0.01$\\\\\n",
      "Milwaukee&$0.04$ & $0.02$ & $0.02$ & $0.02$ & $--$\\\\\n",
      "Nashville&$0.04$ & $0.07$ & $0.03$ & $0.02$ & $0.07$\\\\\n",
      "Philadelphia&$0.05$ & $0.05$ & $0.05$ & $0.05$ & $0.13$\\\\\n",
      "Phoenix&$0.08$ & $0.07$ & $0.05$ & $0.05$ & $0.09$\\\\\n",
      "Portland&$0.06$ & $0.04$ & $0.01$ & $0.05$ & $0.07$\\\\\n",
      "Raleigh&$0.06$ & $0.07$ & $0.06$ & $0.06$ & $-0.05$\\\\\n",
      "San Francisco&$0.06$ & $0.01$ & $0.06$ & $0.04$ & $0.02$\\\\\n",
      "Seattle&$0.06$ & $0.05$ & $-0.0$ & $0.05$ & $-0.05$\\\\\n",
      "Virginia Beach&$0.06$ & $0.04$ & $0.19$ & $0.06$ & $0.03$\\\\\n",
      "Washington DC&$0.08$ & $0.03$ & $0.07$ & $0.05$ & $--$\\\\\n",
      "intercept&$-0.0$ & $0.0$ & $0.0$ & $0.0$ & $-0.0$\\\\\n"
     ]
    }
   ],
   "source": [
    "print 'City'+\"&\" + \" & \".join([ print_cats[j] for j in range(len(cats))])  + '\\\\\\\\ \\hline'\n",
    "mappers=[None]*len(cats)\n",
    "for j in range(len(cats)): \n",
    "    mappers[j] = dict(zip(sc_ctrls[j],range(len(sc_ctrls[j]))))\n",
    "\n",
    "def check_city_weight(ws, j, i, city, sc_ctrl, mappers): \n",
    "    if city in mappers[j].keys(): \n",
    "        return str(np.round(ws[j][mappers[j][city]],2))\n",
    "    else: \n",
    "        return '--'\n",
    "        \n",
    "for i in range(len(sc_ctrls[0])): #iterate over rows \n",
    "    print sc_ctrls[0][i]+ \"&\" + \" & \".join([ '$'+  check_city_weight(ws, j, i, sc_ctrls[0][i], sc_ctrls[j], mappers)   +'$' for j in range(len(cats))])  + '\\\\\\\\'\n"
   ]
  },
  {
   "cell_type": "code",
   "execution_count": null,
   "metadata": {},
   "outputs": [],
   "source": [
    "sc_ctrls"
   ]
  },
  {
   "cell_type": "code",
   "execution_count": null,
   "metadata": {},
   "outputs": [],
   "source": [
    "method='linreg'\n",
    "weekly = '5W'\n",
    "exp_name=weekly+'-'+method\n",
    "\n",
    "res=pickle.load(open('results/'+exp_name+'-sc-out.p', 'rb'))\n",
    "locals().update(res)"
   ]
  },
  {
   "cell_type": "code",
   "execution_count": null,
   "metadata": {},
   "outputs": [],
   "source": []
  },
  {
   "cell_type": "code",
   "execution_count": null,
   "metadata": {},
   "outputs": [],
   "source": [
    "\n",
    "# print_cats = [x.replace('_',' ') for x in cats]\n",
    "# print ''+\"&\" + \" & \".join([  print_cats[j] for j in range(len(cats))])  + '\\\\\\\\'\n",
    "# print 'Pseudo-p-value (ATE)'+ \"&\" + \" & \".join([ '$'+ str(np.round(placebo_ate_p[j],2))+'$' for j in range(len(print_cats))])  + '\\\\\\\\'\n",
    "# print 'Pre-treatment RMSE'+ \"&\" + \" & \".join([ '$'+ latex_float(np.format_float_scientific(SC_mses[j],2))+'$'for j in range(len(cats))] )  + '\\\\\\\\'\n",
    "# print 'Avg. Placebo RMSE'+ \"&\" + \" & \".join([ '$'+ latex_float(np.format_float_scientific(np.mean(x),2))+'$' for x in placebo_mses])  + '\\\\\\\\'\n",
    "\n",
    "cols = ['ATE', 'Pseudo-p (ATE)',r'Pre-tx $R^2$', 'Pre-tx RMSE','Avg. Placebo RMSE' ]\n",
    "print_cats = [x.replace('_',' ') for x in cats]\n",
    "print ''+\"&\" + \" & \".join([  cols[j] for j in range(len(cols))])  + '\\\\\\\\ \\hline'\n",
    "for j in range(len(cats)): \n",
    "    includes=[latex_float(np.format_float_scientific(placebo_ate[j],2)),\n",
    "              str(np.round(placebo_ate_p[j],2)), \n",
    "              str(np.round(Rsquareds[j],2)),\n",
    "              latex_float(np.format_float_scientific(SC_mses[j],2)),\n",
    "              latex_float(np.format_float_scientific(np.mean(placebo_mses[j]),2)) ]    \n",
    "    print print_cats[j]+ \"&\" + \" & \".join(['$'+x+'$' for x in includes])  + '\\\\\\\\'\n",
    "\n",
    "\n"
   ]
  },
  {
   "cell_type": "code",
   "execution_count": null,
   "metadata": {},
   "outputs": [],
   "source": []
  }
 ],
 "metadata": {
  "kernelspec": {
   "display_name": "Python 2",
   "language": "python",
   "name": "python2"
  },
  "language_info": {
   "codemirror_mode": {
    "name": "ipython",
    "version": 2
   },
   "file_extension": ".py",
   "mimetype": "text/x-python",
   "name": "python",
   "nbconvert_exporter": "python",
   "pygments_lexer": "ipython2",
   "version": "2.7.18"
  }
 },
 "nbformat": 4,
 "nbformat_minor": 2
}
